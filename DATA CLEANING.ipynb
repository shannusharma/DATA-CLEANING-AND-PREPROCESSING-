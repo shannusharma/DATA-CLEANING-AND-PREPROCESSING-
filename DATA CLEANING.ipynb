{
 "cells": [
  {
   "cell_type": "code",
   "execution_count": null,
   "id": "986d25dc-da80-411c-b647-0821e7a0a806",
   "metadata": {},
   "outputs": [],
   "source": []
  }
 ],
 "metadata": {
  "kernelspec": {
   "display_name": "Python [conda env:base] *",
   "language": "python",
   "name": "conda-base-py"
  },
  "language_info": {
   "codemirror_mode": {
    "name": "ipython",
    "version": 3
   },
   "file_extension": ".py",
   "mimetype": "text/x-python",
   "name": "python",
   "nbconvert_exporter": "python",
   "pygments_lexer": "ipython3",
   "version": "3.12.2"
  }
 },
 "nbformat": 4,
 "nbformat_minor": 5
}
